{
 "cells": [
  {
   "cell_type": "markdown",
   "id": "5325dbe7",
   "metadata": {},
   "source": [
    "There are three codes below for Mid Point Circle Drawing Algorithm->"
   ]
  },
  {
   "cell_type": "code",
   "execution_count": 2,
   "id": "680e9285",
   "metadata": {},
   "outputs": [
    {
     "data": {
      "image/png": "[encoded data removed]",
      "text/plain": [
       "<Figure size 432x288 with 1 Axes>"
      ]
     },
     "metadata": {
      "needs_background": "light"
     },
     "output_type": "display_data"
    }
   ],
   "source": [
    "import matplotlib.pyplot as plt\n",
    "\n",
    "def mid_point_circle(radius):\n",
    "    x = 0\n",
    "    y = radius\n",
    "    p = 1 - radius\n",
    "\n",
    "    x_points = []\n",
    "    y_points = []\n",
    "\n",
    "    while x <= y:\n",
    "        x_points.extend([x, -x, x, -x, y, -y, y, -y])\n",
    "        y_points.extend([y, y, -y, -y, x, x, -x, -x])\n",
    "        x += 1\n",
    "        if p < 0:\n",
    "            p += 2 * x + 1\n",
    "        else:\n",
    "            y -= 1\n",
    "            p += 2 * (x - y) + 1\n",
    "    \n",
    "    return x_points, y_points\n",
    "\n",
    "# Set the radius of the circle\n",
    "radius = 5\n",
    "\n",
    "# Generate the points on the circle using the Mid-Point Circle algorithm\n",
    "x_points, y_points = mid_point_circle(radius)\n",
    "\n",
    "# Plot the circle\n",
    "plt.plot(x_points, y_points, 'b.')\n",
    "plt.axis('scaled')\n",
    "plt.title('Mid-Point Circle Algorithm')\n",
    "plt.show()\n"
   ]
  },
  {
   "cell_type": "code",
   "execution_count": 4,
   "id": "d5457081",
   "metadata": {},
   "outputs": [
    {
     "data": {
      "image/png": "[encoded data removed]",
      "text/plain": [
       "<Figure size 432x288 with 1 Axes>"
      ]
     },
     "metadata": {
      "needs_background": "light"
     },
     "output_type": "display_data"
    }
   ],
   "source": [
    "import numpy as np\n",
    "import matplotlib.pyplot as plt\n",
    "\n",
    "def mid_point_circle_algo(radius):\n",
    "    x = 0\n",
    "    y = radius\n",
    "    d = 1 - radius\n",
    "    \n",
    "    # Define empty arrays to store the coordinates of points on the circle\n",
    "    x_coords = []\n",
    "    y_coords = []\n",
    "    \n",
    "    # Calculate points on the circle and plot them\n",
    "    while x <= y:\n",
    "        x_coords.extend([x, -x, x, -x, y, -y, y, -y])\n",
    "        y_coords.extend([y, y, -y, -y, x, x, -x, -x])\n",
    "        \n",
    "        if d < 0:\n",
    "            d += 2 * x + 3\n",
    "        else:\n",
    "            d += 2 * (x - y) + 5\n",
    "            y -= 1\n",
    "        x += 1\n",
    "        \n",
    "    # Plot the circle\n",
    "    plt.plot(x_coords, y_coords, 'bo')\n",
    "    plt.axis('scaled')\n",
    "    plt.show()\n",
    "\n",
    "# Test the function with radius = 5\n",
    "mid_point_circle_algo(5)\n"
   ]
  },
  {
   "cell_type": "code",
   "execution_count": 8,
   "id": "197544b7",
   "metadata": {},
   "outputs": [
    {
     "data": {
      "image/png": "[encoded data removed]",
      "text/plain": [
       "<Figure size 432x288 with 1 Axes>"
      ]
     },
     "metadata": {
      "needs_background": "light"
     },
     "output_type": "display_data"
    }
   ],
   "source": [
    "#import warnings\n",
    "#warnings.filterwarnings('ignore')\n",
    "#%matplotlib inline\n",
    "import matplotlib.pyplot as plt\n",
    "\n",
    "r = 100\n",
    "\n",
    "p = 1 - r\n",
    "x = 0\n",
    "y = r\n",
    "\n",
    "while x < y:\n",
    "    x += 1\n",
    "    \n",
    "    _y = y\n",
    "    y = y - 1 if p >= 0 else y\n",
    "\n",
    "    p = p + 2 * (x + 1) + (y**2 - _y**2) - (y - _y) + 1\n",
    "    \n",
    "    plt.scatter(x, y, s=1)\n",
    "    plt.scatter(y, x, s=1)\n",
    "    plt.scatter(-y, x, s=1)\n",
    "    plt.scatter(-x, y, s=1)\n",
    "    plt.scatter(-x, -y, s=1)\n",
    "    plt.scatter(-y, -x, s=1)\n",
    "    plt.scatter(y, -x, s=1)\n",
    "    plt.scatter(x, -y, s=1)\n",
    "\n",
    "    \n",
    "plt.show()"
   ]
  },
  {
   "cell_type": "code",
   "execution_count": null,
   "id": "07a54a9d",
   "metadata": {},
   "outputs": [],
   "source": []
  }
 ],
 "metadata": {
  "kernelspec": {
   "display_name": "Python 3 (ipykernel)",
   "language": "python",
   "name": "python3"
  },
  "language_info": {
   "codemirror_mode": {
    "name": "ipython",
    "version": 3
   },
   "file_extension": ".py",
   "mimetype": "text/x-python",
   "name": "python",
   "nbconvert_exporter": "python",
   "pygments_lexer": "ipython3",
   "version": "3.9.12"
  }
 },
 "nbformat": 4,
 "nbformat_minor": 5
}
